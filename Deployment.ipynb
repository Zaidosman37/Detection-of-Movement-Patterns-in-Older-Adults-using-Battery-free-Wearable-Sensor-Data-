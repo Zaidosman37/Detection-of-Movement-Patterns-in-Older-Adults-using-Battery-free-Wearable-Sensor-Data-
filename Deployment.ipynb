{
 "cells": [
  {
   "cell_type": "code",
   "execution_count": 3,
   "id": "f53c26df-67a3-4c3c-b98e-9e6314d3a33b",
   "metadata": {},
   "outputs": [
    {
     "name": "stdout",
     "output_type": "stream",
     "text": [
      "Overwriting app.py\n"
     ]
    }
   ],
   "source": [
    "%%writefile app.py\n",
    "\n",
    "import streamlit as st\n",
    "import numpy as np\n",
    "import pandas as pd\n",
    "import joblib\n",
    "\n",
    "with open('final_model.joblib','rb') as file:\n",
    "    model = joblib.load(file)\n",
    "\n",
    "def prediction(inp_list):\n",
    "\n",
    "    pred = model.predict([inp_list])[0]\n",
    "    if pred==0:\n",
    "        return 'Sitting on bed'\n",
    "    elif pred==1:\n",
    "        return 'Sitting on chair'\n",
    "    elif pred==2:\n",
    "        return 'Lying on bed'\n",
    "    else:\n",
    "        return 'Ambulating'\n",
    "        \n",
    "        \n",
    "\n",
    "def main():\n",
    "    st.title('ACTIVITY PREDICTION FROM SENSOR DATA')\n",
    "    st.subheader('''This application will predict the on going avtivity of the basis of sensor data provided. Fill the respective \n",
    "    fields it will be predicted.''')\n",
    "    st.image('image.webp')\n",
    "\n",
    "    rfid = st.dropbox('Enter the RFID configuration settings',['Config 1 (4 Sensors)','Config 2 (3 Sensors)'])\n",
    "    rfid_e = (lambda x: 3 if x=='Config 2 (3 Sensors)' else 4)(rfid)\n",
    "\n",
    "    ant_ID = st.dropbox('Select the Antena ID',[1,2,3,4])\n",
    "    rssi = st.text_input('Enter the received signal strength indicator (RSSI)')\n",
    "    accv = st.text_input('Enter the vertical acceleration data from sensor')\n",
    "    accf = st.text_input('Enter the frontal acceleration data from sensor')\n",
    "    accl = st.text_input('Enter the lateral acceleration data from sensor')\n",
    "\n",
    "    inp_data = [accf,accv,accl,ant_ID,rssi,rfid_e]\n",
    "\n",
    "    if st.button('Predict'):\n",
    "        response = prediction(inp_data)\n",
    "        st.success(response)\n",
    "    \n",
    "\n",
    "if __name__=='__main__':\n",
    "    main()"
   ]
  },
  {
   "cell_type": "code",
   "execution_count": null,
   "id": "c8798cef-9816-4fd6-9d0d-ae807dac4d92",
   "metadata": {},
   "outputs": [],
   "source": []
  }
 ],
 "metadata": {
  "kernelspec": {
   "display_name": "Python [conda env:base] *",
   "language": "python",
   "name": "conda-base-py"
  },
  "language_info": {
   "codemirror_mode": {
    "name": "ipython",
    "version": 3
   },
   "file_extension": ".py",
   "mimetype": "text/x-python",
   "name": "python",
   "nbconvert_exporter": "python",
   "pygments_lexer": "ipython3",
   "version": "3.12.7"
  }
 },
 "nbformat": 4,
 "nbformat_minor": 5
}
