{
 "cells": [
  {
   "cell_type": "code",
   "execution_count": 7,
   "id": "83a14c99-c2ec-447d-8e7c-7ca84faec731",
   "metadata": {},
   "outputs": [
    {
     "name": "stdout",
     "output_type": "stream",
     "text": [
      "Overwriting app.py\n"
     ]
    }
   ],
   "source": [
    "%%writefile app.py\n",
    "\n",
    "import streamlit as st\n",
    "import numpy as np\n",
    "import pandas as pd\n",
    "import joblib\n",
    "\n",
    "with open(\"final_model.joblib\",\"rb\") as file:\n",
    "    model=joblib.load(file)\n",
    "\n",
    "def prediction(inp_list):\n",
    "\n",
    "    pred=model.predict([inp_list])[0]\n",
    "    if pred==0:\n",
    "        return \"Sitting on bed\"\n",
    "    elif pred==1:\n",
    "        return \"Sitting on chair\"\n",
    "    elif pred==2:\n",
    "        return \"Lying on Bed\"\n",
    "    else:\n",
    "        return \"Ambulating\"\n",
    "\n",
    "        \n",
    "def main():\n",
    "    st.title(\"Activity Prediction from Sensor Data\")\n",
    "    st.subheader(\"This Application will predict the ongoing activity of the basis of sensor data provided. Fill the respective fields it will be predicted.\")\n",
    "    st.image(\"Image.jpg\")\n",
    "\n",
    "    rfid=st.selectbox(\"Enter the RFID configuration settings\",[\"Config 1 (4 Sensors)\",\"Config 2 (3 Sensors)\"])\n",
    "    rfid_e= (lambda x: 3 if x==\"Config 2 (3 Sensors)\" else 4)(rfid)\n",
    "\n",
    "    ant_id=st.selectbox(\"Select the Antenna ID \",[1,2,3,4])\n",
    "    rssi=st.number_input(\"Enter the Recieved signal strength indicator (RSSI) \",format=\"%.6f\")\n",
    "    accv=st.number_input(\"Enter the Vertical Acceleration from the Sensor\",format=\"%.6f\")\n",
    "    accf=st.number_input(\"Enter the frontal Acceleration from the Sensor\",format=\"%.6f\")\n",
    "    accl=st.number_input(\"Enter the lateral Acceleration from the Sensor\",format=\"%.6f\")\n",
    "\n",
    "    input_data=[accf,accv,accl,ant_id,rssi,rfid_e]\n",
    "\n",
    "    if st.button(\"Predict\"):\n",
    "        response=prediction(input_data)\n",
    "        st.success(response)\n",
    "\n",
    "\n",
    "if __name__==\"__main__\":\n",
    "    main()"
   ]
  },
  {
   "cell_type": "code",
   "execution_count": null,
   "id": "46ad748a-df1c-432d-bb6a-dbe6f420e57f",
   "metadata": {},
   "outputs": [],
   "source": []
  }
 ],
 "metadata": {
  "kernelspec": {
   "display_name": "Python [conda env:base] *",
   "language": "python",
   "name": "conda-base-py"
  },
  "language_info": {
   "codemirror_mode": {
    "name": "ipython",
    "version": 3
   },
   "file_extension": ".py",
   "mimetype": "text/x-python",
   "name": "python",
   "nbconvert_exporter": "python",
   "pygments_lexer": "ipython3",
   "version": "3.12.7"
  }
 },
 "nbformat": 4,
 "nbformat_minor": 5
}
